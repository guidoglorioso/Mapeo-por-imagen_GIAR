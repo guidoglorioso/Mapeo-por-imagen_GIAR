{
 "cells": [
  {
   "cell_type": "code",
   "execution_count": 5,
   "id": "6114224c",
   "metadata": {},
   "outputs": [],
   "source": [
    "# Añadir la carpeta ../libs al path para poder importar los módulos locales\n",
    "import sys\n",
    "from pathlib import Path\n",
    "libs_path = str(Path(__file__).resolve().parent.joinpath('..', 'libs')) if '__file__' in globals() else str((Path.cwd().parent / 'libs').resolve())\n",
    "libs_path\n",
    "if libs_path not in sys.path:\n",
    "    sys.path.insert(0, libs_path)\n",
    "\n",
    "%reset -f"
   ]
  },
  {
   "cell_type": "code",
   "execution_count": 11,
   "id": "ce2eec28",
   "metadata": {},
   "outputs": [],
   "source": [
    "# Importar los módulos de librerías locales\n",
    "from calib_sensor import *\n",
    "from calib_imagen import CalibImagen"
   ]
  }
 ],
 "metadata": {
  "kernelspec": {
   "display_name": "Python 3",
   "language": "python",
   "name": "python3"
  },
  "language_info": {
   "codemirror_mode": {
    "name": "ipython",
    "version": 3
   },
   "file_extension": ".py",
   "mimetype": "text/x-python",
   "name": "python",
   "nbconvert_exporter": "python",
   "pygments_lexer": "ipython3",
   "version": "3.13.3"
  }
 },
 "nbformat": 4,
 "nbformat_minor": 5
}
